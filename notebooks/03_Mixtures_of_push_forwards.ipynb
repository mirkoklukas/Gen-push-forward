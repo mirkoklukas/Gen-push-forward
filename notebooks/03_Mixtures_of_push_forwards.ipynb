{
 "cells": [
  {
   "cell_type": "code",
   "execution_count": 1,
   "id": "e15bf33b",
   "metadata": {},
   "outputs": [],
   "source": [
    "include(\"../src/GenPushForward.jl\")\n",
    "using .GenPushForward\n",
    "using Gen\n",
    "using StatsBase, Plots\n",
    "col = palette(:tab10);"
   ]
  },
  {
   "cell_type": "code",
   "execution_count": 2,
   "id": "eff22ffd",
   "metadata": {},
   "outputs": [
    {
     "name": "stdout",
     "output_type": "stream",
     "text": [
      "Mean Inverse error ``|g(f(x)) - x|``: 2.4320823133194835e-17\n",
      "All good.\n",
      "Mean det ``|det(df_x)|``: 0.0\n",
      "All good.\n"
     ]
    },
    {
     "data": {
      "text/plain": [
       "0.2897910691206109"
      ]
     },
     "execution_count": 2,
     "metadata": {},
     "output_type": "execute_result"
    }
   ],
   "source": [
    "args = (0.0, 1.)\n",
    "P = normal\n",
    "\n",
    "f =  x -> x/10.0\n",
    "g =  x -> x*10.0\n",
    "detdf = x -> 1/10.0\n",
    "\n",
    "Q = PushForward(P, f, g, detdf, Float64)\n",
    "check(Q, args)\n",
    "\n",
    "mix = HomogeneousMixture(Q, [0, 0])\n",
    "mix([0.2, 0.8], args, args)"
   ]
  },
  {
   "cell_type": "markdown",
   "id": "9077b064",
   "metadata": {},
   "source": [
    "**Problem with type signature of HeterogeneousMixture**\n",
    "\n",
    "Gen's `HeterogeneousMixture` expects `Vector{Distribution{T}}` and doesn't  know what to do with `PushForward`'s, even though it \"inherits\" from `Distribution{T}`. This is Because `[PushForward(), PushForward()]` is treated as `Vector{PushForward}}` whereas `[uniform, normal]` is treated as `Vector{Distribution{T}}`\n",
    "\n",
    "The signature should be changed as follows:\n",
    "```julia \n",
    "# Current signature\n",
    "HeterogeneousMixture(distributions::Vector{Distribution{T}}) where {T}\n",
    "# Better signature, solving the issue.\n",
    "HeterogeneousMixture(distributions::Vector{D}) where {T, D <: Distribution{T}}\n",
    "```\n",
    "I patched it by adding `HeterogeneousMixture(distributions::Vector{PushForward})` withing `GenPushForward.jl` ..."
   ]
  },
  {
   "cell_type": "code",
   "execution_count": 3,
   "id": "0204e196",
   "metadata": {},
   "outputs": [
    {
     "data": {
      "text/plain": [
       "MyHeterogeneousMixture (generic function with 1 method)"
      ]
     },
     "execution_count": 3,
     "metadata": {},
     "output_type": "execute_result"
    }
   ],
   "source": [
    "function MyHeterogeneousMixture(distributions::Vector{D}) where {T, D <: Distribution{T}}\n",
    "    println(\"\\n... this is it\\n\")\n",
    "    _has_output_grad = true\n",
    "    _has_argument_grads = Bool[true] # weights\n",
    "    _is_discrete = true\n",
    "    for dist in distributions\n",
    "        _has_output_grad = _has_output_grad && has_output_grad(dist)\n",
    "        for has_arg_grad in has_argument_grads(dist)\n",
    "            push!(_has_argument_grads, has_arg_grad)\n",
    "        end\n",
    "        _is_discrete = _is_discrete && is_discrete(dist)\n",
    "    end\n",
    "    num_args = Int[]\n",
    "    starting_args = Int[]\n",
    "    for dist in distributions\n",
    "        push!(starting_args, sum(num_args) + 1)\n",
    "        push!(num_args, length(has_argument_grads(dist)))\n",
    "    end\n",
    "    K = length(distributions)\n",
    "    return HeterogeneousMixture{T}(\n",
    "        K, distributions,\n",
    "        _has_output_grad,\n",
    "        tuple(_has_argument_grads...),\n",
    "        _is_discrete,\n",
    "        num_args,\n",
    "        starting_args)\n",
    "end"
   ]
  },
  {
   "cell_type": "code",
   "execution_count": 4,
   "id": "fbbba5d9",
   "metadata": {},
   "outputs": [
    {
     "name": "stdout",
     "output_type": "stream",
     "text": [
      "Mean Inverse error ``|g(f(x)) - x|``: 2.5604518505417672e-17\n",
      "All good.\n",
      "Mean det ``|det(df_x)|``: 0.0\n",
      "All good.\n",
      "Mean Inverse error ``|g(f(x)) - x|``: 3.1086244689504386e-17\n",
      "All good.\n",
      "Mean det ``|det(df_x)|``: 0.0\n",
      "All good.\n"
     ]
    }
   ],
   "source": [
    "args1 = (0.0, 1.)\n",
    "P1 = normal\n",
    "\n",
    "\n",
    "f1 =  x -> x/10.0\n",
    "g1 =  x -> x*10.0\n",
    "detdf1 = x -> 1/10.0\n",
    "\n",
    "Q1 = PushForward(P1, f1, g1, detdf1, Float64)\n",
    "check(Q1, args1)\n",
    "\n",
    "\n",
    "args2 = (1.0, 2.)\n",
    "P2 = uniform\n",
    "f2 =  x -> x + 10\n",
    "g2 =  x -> x - 10\n",
    "detdf2 = x -> 1.0\n",
    "\n",
    "Q2 = PushForward(P2, f1, g1, detdf1, Float64)\n",
    "check(Q2, args2)"
   ]
  },
  {
   "cell_type": "code",
   "execution_count": 8,
   "id": "64b1d638",
   "metadata": {},
   "outputs": [
    {
     "data": {
      "text/plain": [
       "HeterogeneousMixture{Float64}(2, Distribution{Float64}[PushForward{Float64, Float64}(Gen.Normal(), var\"#7#8\"(), var\"#9#10\"(), var\"#11#12\"(), Float64), PushForward{Float64, Float64}(Gen.UniformContinuous(), var\"#7#8\"(), var\"#9#10\"(), var\"#11#12\"(), Float64)], true, (true, true, true, true, true), false, [2, 2], [1, 3])"
      ]
     },
     "execution_count": 8,
     "metadata": {},
     "output_type": "execute_result"
    }
   ],
   "source": [
    "mix = HeterogeneousMixture([Q1,Q2]) # The issue is fixed through GenPushForward ..."
   ]
  },
  {
   "cell_type": "code",
   "execution_count": 6,
   "id": "5b58ae05",
   "metadata": {},
   "outputs": [
    {
     "name": "stdout",
     "output_type": "stream",
     "text": [
      "\n",
      "... this is it\n",
      "\n"
     ]
    },
    {
     "data": {
      "text/plain": [
       "0.15790067232328783"
      ]
     },
     "execution_count": 6,
     "metadata": {},
     "output_type": "execute_result"
    }
   ],
   "source": [
    "mix = MyHeterogeneousMixture([Q1,Q2])\n",
    "mix([0.2, 0.8], args1..., args2...)"
   ]
  },
  {
   "cell_type": "code",
   "execution_count": 7,
   "id": "70ce36c3",
   "metadata": {},
   "outputs": [
    {
     "name": "stdout",
     "output_type": "stream",
     "text": [
      "\n",
      "... this is it\n",
      "\n"
     ]
    },
    {
     "data": {
      "text/plain": [
       "1.4834209653472081"
      ]
     },
     "execution_count": 7,
     "metadata": {},
     "output_type": "execute_result"
    }
   ],
   "source": [
    "# mix = Gen.HeterogeneousMixture([normal,uniform])\n",
    "mix = MyHeterogeneousMixture([normal,uniform])\n",
    "mix([0.5, 0.5], 0.0,1.0, 4,5)"
   ]
  },
  {
   "cell_type": "code",
   "execution_count": null,
   "id": "e1b33e42",
   "metadata": {},
   "outputs": [],
   "source": []
  }
 ],
 "metadata": {
  "@webio": {
   "lastCommId": null,
   "lastKernelId": null
  },
  "kernelspec": {
   "display_name": "Julia 1.8.5",
   "language": "julia",
   "name": "julia-1.8"
  },
  "language_info": {
   "file_extension": ".jl",
   "mimetype": "application/julia",
   "name": "julia",
   "version": "1.8.5"
  },
  "toc": {
   "base_numbering": 1,
   "nav_menu": {},
   "number_sections": true,
   "sideBar": true,
   "skip_h1_title": false,
   "title_cell": "Table of Contents",
   "title_sidebar": "Contents",
   "toc_cell": false,
   "toc_position": {},
   "toc_section_display": true,
   "toc_window_display": false
  }
 },
 "nbformat": 4,
 "nbformat_minor": 5
}
